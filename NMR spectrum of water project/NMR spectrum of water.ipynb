{
 "cells": [
  {
   "cell_type": "markdown",
   "metadata": {
    "deletable": false,
    "editable": false,
    "nbgrader": {
     "cell_type": "markdown",
     "checksum": "875987fb2ff1f6dd6eb10454dc26744c",
     "grade": false,
     "grade_id": "header",
     "locked": true,
     "schema_version": 3,
     "solution": false,
     "task": false
    }
   },
   "source": [
    "# Checkpoint 3\n",
    "\n",
    "**Due: Friday, 4 December, 2020 at 5:00pm GMT**\n",
    "\n",
    "### Read This First\n",
    "1. Use the constants provided in the cell below. Do not use your own constants.\n",
    "\n",
    "2. Put the code that produces the output for a given task in the cell indicated. You are welcome to add as many cells as you like for imports, function definitions, variables, etc. **Additional cells need to be in the proper order such that your code runs correctly the first time through.**\n",
    "\n",
    "3. **IMPORTANT!** Before submitting your notebook, clear the output by clicking *Restart & Clear Output* from the *Kernel* menu. If you do not do this, the file size of your notebook will be very large.\n",
    "\n",
    "\n",
    "# NMR spectrum of water\n",
    "\n",
    "This problem concerns obtaining the nuclear magnetic resonance (NMR) spectrum of water from a raw NMR signal.\n",
    "\n",
    "Given: a file containing the free-induction decay signal $y(t)$ (electromagnetic radiation emitted by protons in water), following an RF $\\pi$-pulse of f=60MHz. The recorded signal is frequency-subtracted, i.e., the radio-frequency output signal has been mixed with the carrier frequency f=60MHz to shift the signal to lower frequencies in the range of hundreds of Hz.\n",
    "\n",
    "The signal has three main components: the actual NMR signal from protons in water molecules, white noise, and a 50 Hz \"mains hum\" (electrical signal picked up by the sensitive NMR detector, coming from the mains AC; the signal also contains higher harmonics).\n",
    "\n",
    "### Hints on how to solve this checkpoint:\n",
    "- The code must work (and will be tested on) for other data files, in which the frequency of the water peak may differ by 10%. Any 'fine-tuning' of your algorithms so that they only work for the given data file is therefore discouraged.\n",
    "- Write the code in a modular way so that you can re-use functions from previous tasks. This will save you a lot of time.\n",
    "- Do not make the code more complex that it needs to be. Classes, complex data structures etc. are not required for this checkpoint.\n",
    "- Use NumPy/SciPy functions rather than your own implementation whenever possible.\n",
    "- As in CP1 and CP2, apart from numerical accuracy, efficiency and coding style will also be marked. Try to make your code readable.\n",
    "- Comment on the results obtained. This may help to get a better mark if there is a problem with the code.\n",
    "\n",
    "**There are 6 tasks in this CP worth 100 points, plus a bonus task 7 worth 15 points. The total mark will be the sum of all marks, or 100 points, whichever is lower.**"
   ]
  },
  {
   "cell_type": "code",
   "execution_count": null,
   "metadata": {},
   "outputs": [],
   "source": [
    "import matplotlib.pyplot as plt\n",
    "%matplotlib inline\n",
    "import numpy as np\n",
    "import os\n",
    "import pandas\n",
    "import time\n",
    "from scipy import integrate, optimize"
   ]
  },
  {
   "cell_type": "code",
   "execution_count": null,
   "metadata": {
    "deletable": false,
    "editable": false,
    "nbgrader": {
     "cell_type": "code",
     "checksum": "18a61d4744307e759662be2ca689122f",
     "grade": true,
     "grade_id": "generate-data",
     "locked": true,
     "points": 0,
     "schema_version": 3,
     "solution": false,
     "task": false
    }
   },
   "outputs": [],
   "source": [
    "plt.rcParams['figure.figsize'] = (10, 6)\n",
    "plt.rcParams['font.size'] = 16"
   ]
  },
  {
   "cell_type": "markdown",
   "metadata": {
    "deletable": false,
    "editable": false,
    "nbgrader": {
     "cell_type": "markdown",
     "checksum": "6dbd68d6be78feee3ad7c8d3ef1d9387",
     "grade": false,
     "grade_id": "section-task1",
     "locked": true,
     "schema_version": 3,
     "solution": false,
     "task": false
    }
   },
   "source": [
    "# Task 1 (15p)\n",
    "\n",
    "Load the data from the file \"signals/water_16_samples.csv\" and make a plot of the recorded signal versus time for t=[0,0.05), for the first of the 16 samples. Label the axes.\n",
    "\n",
    "Each row of the data file (except the first which contains table headings) has the following format:\n",
    "\n",
    "time, s1, s2, s3, ...\n",
    "\n",
    "where \"time\" is in seconds, and s1,s2,s3,... represent the NMR signal (arbitrary units) from independent realisations of the experiment. Differences between the samples should be only due to noise; it is the same experiment repeated 16  times."
   ]
  },
  {
   "cell_type": "code",
   "execution_count": null,
   "metadata": {
    "deletable": false,
    "nbgrader": {
     "cell_type": "code",
     "checksum": "6258b698228b7730d427235a0ce5f948",
     "grade": false,
     "grade_id": "task1",
     "locked": false,
     "schema_version": 3,
     "solution": true,
     "task": false
    }
   },
   "outputs": [],
   "source": [
    "# YOUR CODE HERE\n",
    "raise NotImplementedError()"
   ]
  },
  {
   "cell_type": "markdown",
   "metadata": {
    "deletable": false,
    "editable": false,
    "nbgrader": {
     "cell_type": "markdown",
     "checksum": "92e33cbbcf6173cb7104b86eb8907992",
     "grade": false,
     "grade_id": "section-task2",
     "locked": true,
     "schema_version": 3,
     "solution": false,
     "task": false
    }
   },
   "source": [
    "# Task 2 (15p)\n",
    "\n",
    "Calculate the amplitude spectrum of the NMR signal, and plot it as a function of frequency f [Hertz], for f=0 to 500 Hz. Assume the length of the time series is tmax=0.5s.\n",
    "\n",
    "**Note: in workshop, you have been plotting wavenumber ($k = \\frac{2\\pi}{\\lambda}$), whereas frequency is $f = \\frac{1}{\\lambda}$.**"
   ]
  },
  {
   "cell_type": "code",
   "execution_count": null,
   "metadata": {
    "deletable": false,
    "nbgrader": {
     "cell_type": "code",
     "checksum": "27880ea029c156f31e7f4a32d0ca9221",
     "grade": false,
     "grade_id": "task2",
     "locked": false,
     "schema_version": 3,
     "solution": true,
     "task": false
    }
   },
   "outputs": [],
   "source": [
    "# YOUR CODE HERE\n",
    "raise NotImplementedError()"
   ]
  },
  {
   "cell_type": "markdown",
   "metadata": {
    "deletable": false,
    "editable": false,
    "nbgrader": {
     "cell_type": "markdown",
     "checksum": "3b2377cfe505791ecb04a10523db0553",
     "grade": false,
     "grade_id": "section-task3",
     "locked": true,
     "schema_version": 3,
     "solution": false,
     "task": false
    }
   },
   "source": [
    "# Task 3 (15p)\n",
    "\n",
    "Filter out the noise by passing the signal through a bandpass filter centered at the water peak with a width $\\pm$30 Hz. Plot the filtered signal y(t) for t=[0,0.5)."
   ]
  },
  {
   "cell_type": "code",
   "execution_count": null,
   "metadata": {
    "deletable": false,
    "nbgrader": {
     "cell_type": "code",
     "checksum": "184a8a663a34c78cc4e3e185ffd97764",
     "grade": false,
     "grade_id": "task3",
     "locked": false,
     "schema_version": 3,
     "solution": true,
     "task": false
    }
   },
   "outputs": [],
   "source": [
    "# YOUR CODE HERE\n",
    "raise NotImplementedError()"
   ]
  },
  {
   "cell_type": "markdown",
   "metadata": {
    "deletable": false,
    "editable": false,
    "nbgrader": {
     "cell_type": "markdown",
     "checksum": "22fb8cea533f8a509f497b0e265dd7a8",
     "grade": false,
     "grade_id": "section-task4",
     "locked": true,
     "schema_version": 3,
     "solution": false,
     "task": false
    }
   },
   "source": [
    "# Task 4 (20p)\n",
    "\n",
    "Use non-linear curve fitting to fit the function:\n",
    "\n",
    "$\n",
    "\\Large\n",
    "\\begin{align}\n",
    "y_{\\rm theor}(t) = A \\sin(2\\pi f_0 t) e^{-t/t_0}\n",
    "\\end{align}\n",
    "$\n",
    "\n",
    "to the filtered signal for t=[0,tmax), with unknown parameters $A, f_0, t_0$. Find and print out the best-fit frequency $f_0$. The frequency should be accurate to within 0.01 Hz of the correct answer."
   ]
  },
  {
   "cell_type": "code",
   "execution_count": null,
   "metadata": {
    "deletable": false,
    "nbgrader": {
     "cell_type": "code",
     "checksum": "b08a391cbc9965681f0381f098cd59fd",
     "grade": false,
     "grade_id": "task4",
     "locked": false,
     "schema_version": 3,
     "solution": true,
     "task": false
    }
   },
   "outputs": [],
   "source": [
    "# YOUR CODE HERE\n",
    "raise NotImplementedError()"
   ]
  },
  {
   "cell_type": "code",
   "execution_count": null,
   "metadata": {
    "deletable": false,
    "editable": false,
    "nbgrader": {
     "cell_type": "code",
     "checksum": "b0ad1f0d923fd0fe2e638d1480c08257",
     "grade": true,
     "grade_id": "test-task4",
     "locked": true,
     "points": 0,
     "schema_version": 3,
     "solution": false,
     "task": false
    }
   },
   "outputs": [],
   "source": [
    "print (\"There will be tests here. Great job so far!\")"
   ]
  },
  {
   "cell_type": "markdown",
   "metadata": {
    "deletable": false,
    "editable": false,
    "nbgrader": {
     "cell_type": "markdown",
     "checksum": "317189aa51e3235c9436f2c955bde101",
     "grade": false,
     "grade_id": "section-task5",
     "locked": true,
     "schema_version": 3,
     "solution": false,
     "task": false
    }
   },
   "source": [
    "# Task 5 (20p)\n",
    "\n",
    "Determine $f_0$ in a different way: find the position of the water peak in the amplitude spectrum by fitting the curve\n",
    "\n",
    "$\n",
    "\\large\n",
    "\\begin{align}\n",
    "\\tilde{y}_{\\rm theor}(f) = C + \\frac{A}{\\sqrt{\\lambda^4 + (f^2 - f_0^2)^2 + 2 \\lambda^2(f^2 + f_0^2))}}\n",
    "\\end{align}\n",
    "$\n",
    "\n",
    "This curve comes from Fourier-transforming the exponentially damped sine function from the previous task, plus a constant C to account for background noise. $\\lambda$ denotes the damping rate (inversely proportional to $t_0$ from task 4).\n",
    "\n",
    "As before, use only the first of the 16 samples for this task. The frequency should be accurate to within 0.01 Hz of the correct answer."
   ]
  },
  {
   "cell_type": "code",
   "execution_count": null,
   "metadata": {
    "deletable": false,
    "nbgrader": {
     "cell_type": "code",
     "checksum": "7f1769c0f651e16956f04e7d5a4a2ae9",
     "grade": false,
     "grade_id": "task5",
     "locked": false,
     "schema_version": 3,
     "solution": true,
     "task": false
    }
   },
   "outputs": [],
   "source": [
    "# YOUR CODE HERE\n",
    "raise NotImplementedError()"
   ]
  },
  {
   "cell_type": "code",
   "execution_count": null,
   "metadata": {
    "deletable": false,
    "editable": false,
    "nbgrader": {
     "cell_type": "code",
     "checksum": "f3cc2e534acf2b25b5fbf0f15599a2bd",
     "grade": true,
     "grade_id": "test-task5",
     "locked": true,
     "points": 0,
     "schema_version": 3,
     "solution": false,
     "task": false
    }
   },
   "outputs": [],
   "source": [
    "print (\"Tests here. Keep it up!\")"
   ]
  },
  {
   "cell_type": "markdown",
   "metadata": {
    "deletable": false,
    "editable": false,
    "nbgrader": {
     "cell_type": "markdown",
     "checksum": "f73ac248ed95522fb78f70599049da39",
     "grade": false,
     "grade_id": "section-task6",
     "locked": true,
     "schema_version": 3,
     "solution": false,
     "task": false
    }
   },
   "source": [
    "# Task 6 (15p)\n",
    "\n",
    "Determine the frequency $f_0$ for all 16 data sets using the method from Task 5. Calculate mean $f_0$ and its standard error. The frequency should be accurate to within 0.01 Hz of the correct answer and the standard error should be within 1%."
   ]
  },
  {
   "cell_type": "code",
   "execution_count": null,
   "metadata": {
    "deletable": false,
    "nbgrader": {
     "cell_type": "code",
     "checksum": "09758525e23a8e1ef903179dc7d8dd91",
     "grade": false,
     "grade_id": "task6",
     "locked": false,
     "schema_version": 3,
     "solution": true,
     "task": false
    }
   },
   "outputs": [],
   "source": [
    "# YOUR CODE HERE\n",
    "raise NotImplementedError()"
   ]
  },
  {
   "cell_type": "code",
   "execution_count": null,
   "metadata": {
    "deletable": false,
    "editable": false,
    "nbgrader": {
     "cell_type": "code",
     "checksum": "785f2f8080f6aaf9365569f01c3d802c",
     "grade": true,
     "grade_id": "test-task6",
     "locked": true,
     "points": 0,
     "schema_version": 3,
     "solution": false,
     "task": false
    }
   },
   "outputs": [],
   "source": [
    "print (\"Tests here. Almost there!\")"
   ]
  },
  {
   "cell_type": "markdown",
   "metadata": {
    "deletable": false,
    "editable": false,
    "nbgrader": {
     "cell_type": "markdown",
     "checksum": "60290216d0d64e5581c8dc3595577ffb",
     "grade": false,
     "grade_id": "section-task7",
     "locked": true,
     "schema_version": 3,
     "solution": false,
     "task": false
    }
   },
   "source": [
    "# Bonus: Task 7 (15p)\n",
    "\n",
    "Find the 95% equally-tailed credible interval of $f_0$ from task 5 using Bayesian inference.\n",
    "\n",
    "Use only the first of the 16 samples for this task. Assume the spectrum can be modelled by the curve from task 5, with $C=0$ and random noise superimposed on the curve. The noise should be generated as independent, identically distributed random numbers $\\{\\chi_k\\}$ drawn from the Chi distribution with two degrees of freedom and unknown amplitude $\\sigma$, so that the amplitude spectrum is\n",
    "\n",
    "$\n",
    "\\large\n",
    "\\begin{align}\n",
    "\\tilde{y}_k = \\frac{A}{\\sqrt{\\lambda^4 + (f_k^2 - f_0^2)^2 + 2\\lambda^2(f_k^2 + f_0^2))}} + \\sigma \\chi_k\n",
    "\\end{align}\n",
    "$\n",
    "\n",
    "where $f_k = k/t_{max}$. The rationale for using the Chi distribution comes from Fourier-transforming Gaussian noise and taking its modulus (to plot the amplitude spectrum).\n",
    "\n",
    "Does the average value of $f_0$ obtained in task 6 lie in the credible interval? The bounds of the interval should be accurate to within 0.01 Hz of the correct answer."
   ]
  },
  {
   "cell_type": "code",
   "execution_count": null,
   "metadata": {
    "deletable": false,
    "nbgrader": {
     "cell_type": "code",
     "checksum": "99282a13c44b83d8a9dbd1536feaa51d",
     "grade": false,
     "grade_id": "task7",
     "locked": false,
     "schema_version": 3,
     "solution": true,
     "task": false
    }
   },
   "outputs": [],
   "source": [
    "# YOUR CODE HERE\n",
    "raise NotImplementedError()"
   ]
  },
  {
   "cell_type": "code",
   "execution_count": null,
   "metadata": {
    "deletable": false,
    "editable": false,
    "nbgrader": {
     "cell_type": "code",
     "checksum": "38c7b402f312c39730a2d1da101a1d53",
     "grade": true,
     "grade_id": "test-task7",
     "locked": true,
     "points": 0,
     "schema_version": 3,
     "solution": false,
     "task": false
    }
   },
   "outputs": [],
   "source": [
    "print (\"Tests. Nice work!\")"
   ]
  }
 ],
 "metadata": {
  "kernelspec": {
   "display_name": "Python 3",
   "language": "python",
   "name": "python3"
  },
  "language_info": {
   "codemirror_mode": {
    "name": "ipython",
    "version": 3
   },
   "file_extension": ".py",
   "mimetype": "text/x-python",
   "name": "python",
   "nbconvert_exporter": "python",
   "pygments_lexer": "ipython3",
   "version": "3.7.6"
  }
 },
 "nbformat": 4,
 "nbformat_minor": 4
}
