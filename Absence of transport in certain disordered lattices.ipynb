{
 "cells": [
  {
   "cell_type": "markdown",
   "metadata": {
    "deletable": false,
    "editable": false,
    "nbgrader": {
     "cell_type": "markdown",
     "checksum": "ef563c69f70e4508d5d2186248842296",
     "grade": false,
     "grade_id": "header",
     "locked": true,
     "schema_version": 3,
     "solution": false,
     "task": false
    }
   },
   "source": [
    "# Checkpoint 2\n",
    "\n",
    "**Due: Friday, 6 November, 2020 at 5:00pm GMT**\n",
    "\n",
    "### Read This First\n",
    "1. Use the constants provided in the cell below. Do not use your own constants.\n",
    "\n",
    "2. Put the code that produces the output for a given task in the cell indicated. You are welcome to add as many cells as you like for imports, function definitions, variables, etc. **Additional cells need to be in the proper order such that your code runs correctly the first time through.**\n",
    "\n",
    "3. **IMPORTANT!** Before submitting your notebook, clear the output by clicking *Restart & Clear Output* from the *Kernel* menu. If you do not do this, the file size of your notebook will be very large."
   ]
  },
  {
   "cell_type": "code",
   "execution_count": 71,
   "metadata": {},
   "outputs": [],
   "source": [
    "import matplotlib.pyplot as plt\n",
    "%matplotlib inline\n",
    "import numpy as np\n",
    "import time\n",
    "\n",
    "from scipy.sparse.linalg import eigsh\n",
    "from scipy.linalg import eigh_tridiagonal\n",
    "from scipy.sparse.linalg import spsolve\n",
    "from scipy.integrate import simps\n",
    "from scipy.sparse import diags\n",
    "from scipy.sparse import identity\n",
    "import time\n",
    "\n",
    "plt.rcParams['figure.figsize'] = (10, 6)\n",
    "plt.rcParams['font.size'] = 16"
   ]
  },
  {
   "cell_type": "markdown",
   "metadata": {
    "deletable": false,
    "editable": false,
    "nbgrader": {
     "cell_type": "markdown",
     "checksum": "97fb576f81dbdf14d16161118c8478ee",
     "grade": false,
     "grade_id": "section-task1",
     "locked": true,
     "schema_version": 3,
     "solution": false,
     "task": false
    }
   },
   "source": [
    "# Task 1 (25p)\n",
    "\n",
    "Find numerically the first 101 lowest eigenvalues (“energies”) of the discrete Hamiltonian matrix, H, for V=0 and x=0,...,L, with L=100, dx=1/8 and with reflecting boundary conditions:\n",
    "\n",
    "$\n",
    "\\begin{align}\n",
    "\\psi_N \\equiv \\psi_{N-1},\n",
    "\\end{align}\n",
    "$\n",
    "\n",
    "$\n",
    "\\begin{align}\n",
    "\\psi_{-1} \\equiv \\psi_0,\n",
    "\\end{align}\n",
    "$\n",
    "\n",
    "Here the index -1 denotes the element to the left of the element zero, not the element N-1 as in Python. Note that indices $-1, N$ refer to elements of $\\psi$ that are outside the matrix H.\n",
    "\n",
    "Hint: The eigenvalues, $w_n$, should be\n",
    "\n",
    "$\n",
    "\\large\n",
    "\\begin{align}\n",
    "w_n = \\frac{2\\left(1 - \\cos (\\frac{n \\pi}{N}) \\right)}{dx^2}\n",
    "\\end{align}\n",
    "$\n",
    "\n",
    "for n=0, 1,..., 100. The corresponding (non-normalized) eigenvectors, $v_n$ are\n",
    "\n",
    "$\n",
    "\\large\n",
    "\\begin{align}\n",
    "v_n = \\cos \\left( \\frac{n \\pi x}{L} \\right)\n",
    "\\end{align}\n",
    "$\n",
    "\n",
    "for x=0, dx,..., (N-1)dx."
   ]
  },
  {
   "cell_type": "code",
   "execution_count": 72,
   "metadata": {
    "deletable": false,
    "editable": false,
    "nbgrader": {
     "cell_type": "code",
     "checksum": "3b96418e8d805191fab5578bfe1d9c6c",
     "grade": false,
     "grade_id": "constants-task1",
     "locked": true,
     "schema_version": 3,
     "solution": false,
     "task": false
    }
   },
   "outputs": [
    {
     "name": "stdout",
     "output_type": "stream",
     "text": [
      "Matrix size: 800.\n"
     ]
    }
   ],
   "source": [
    "### Values for task 1\n",
    "L  = 100\n",
    "dx = 1/8\n",
    "N  = int(L/dx)\n",
    "print(f\"Matrix size: {N}.\")"
   ]
  },
  {
   "cell_type": "markdown",
   "metadata": {
    "deletable": false,
    "editable": false,
    "nbgrader": {
     "cell_type": "markdown",
     "checksum": "f0ae58bad90ae10f41964fb2483fcd7a",
     "grade": false,
     "grade_id": "section-task1-cont",
     "locked": true,
     "schema_version": 3,
     "solution": false,
     "task": false
    }
   },
   "source": [
    "In the cell below, compute the 101 lowest eigenvalues given the values of V, L, and dx from above. The function, `task1` should return an array of the eigenvalues.\n",
    "\n",
    "It may be useful to write a generalized function for creating the Hamiltonian given values of N, dx, and V."
   ]
  },
  {
   "cell_type": "code",
   "execution_count": 73,
   "metadata": {
    "deletable": false,
    "nbgrader": {
     "cell_type": "code",
     "checksum": "2a540aba8afd7cc72f9f22b65262e589",
     "grade": false,
     "grade_id": "function-task1",
     "locked": false,
     "schema_version": 3,
     "solution": true,
     "task": false
    }
   },
   "outputs": [],
   "source": [
    "\"\"\"\n",
    "Function which creates a tridiagonal matrix of wavefunctions and then returns the eigenvalues and eigenvectors of the matrix\n",
    "\n",
    "\"\"\"\n",
    "def hamiltonian(dx, N,evals, V,min_eval):\n",
    "    \n",
    "    \n",
    "   \n",
    "    c2 = 0\n",
    "    hbar = 1\n",
    "    m = 1/2\n",
    "    c1 = (hbar**2)/(2*m)\n",
    "    \n",
    "    #create a two diamential array filling one row with -2 and another row with -1\n",
    "    diagonals = [np.full((N),  -2),\n",
    "                 np.full((N-1), 1),]\n",
    "    \n",
    "    #apply reflecting boundary conditions. First element and last element changed value from -2 to 1\n",
    "    diagonals[0][0] = -1\n",
    "    diagonals[0][-1] = -1\n",
    "  \n",
    "    #converts 2d array into two separate arrays, one for the main diagonal and one for the of diagonal. \n",
    "    main_diag = ((diagonals[0]*-c1) / ((dx)**2)) + V\n",
    "    off_diag = ((diagonals[1]*-c1)/ ((dx)**2))\n",
    "    \n",
    "    #gets eigenvalues and eigenvectors of the matrix with three diagonals (main diagonal and two off diagonals)\n",
    "    ww ,vv = eigh_tridiagonal(main_diag, off_diag ,  eigvals_only=False, select = \"i\", select_range=(min_eval,evals))\n",
    "    \n",
    "    return ww, vv\n",
    "\n",
    "\n",
    "    \n",
    "def task1():\n",
    "    #potential set to zero, set range of eigenvalues to be calculated\n",
    "    V = 0\n",
    "    evals = 100\n",
    "    min_eval = 0\n",
    "    ww, vv = hamiltonian(dx, N, evals, V, min_eval)\n",
    " \n",
    "   \n",
    "    \n",
    "    return(ww)\n"
   ]
  },
  {
   "cell_type": "markdown",
   "metadata": {
    "deletable": false,
    "editable": false,
    "nbgrader": {
     "cell_type": "markdown",
     "checksum": "a305e20dabd91962b111fda679d05c27",
     "grade": false,
     "grade_id": "section-testing-task1",
     "locked": true,
     "schema_version": 3,
     "solution": false,
     "task": false
    }
   },
   "source": [
    "## Testing task 1\n",
    "\n",
    "The cell below will run your function and compare it with the expected values."
   ]
  },
  {
   "cell_type": "code",
   "execution_count": 74,
   "metadata": {
    "deletable": false,
    "editable": false,
    "nbgrader": {
     "cell_type": "code",
     "checksum": "807d873c64673010810b7a92b3e122b0",
     "grade": true,
     "grade_id": "test-task1",
     "locked": true,
     "points": 0,
     "schema_version": 3,
     "solution": false,
     "task": false
    }
   },
   "outputs": [
    {
     "name": "stdout",
     "output_type": "stream",
     "text": [
      "Time to solution: 0.0525510311126709 seconds.\n"
     ]
    },
    {
     "data": {
      "image/png": "[encoded data removed]",
      "text/plain": [
       "<Figure size 720x432 with 1 Axes>"
      ]
     },
     "metadata": {
      "needs_background": "light"
     },
     "output_type": "display_data"
    },
    {
     "name": "stdout",
     "output_type": "stream",
     "text": [
      "Max difference is 1.7702117765407015e-11.\n"
     ]
    }
   ],
   "source": [
    "t1 = time.time()\n",
    "ww = task1()\n",
    "t2 = time.time()\n",
    "print (f\"Time to solution: {t2-t1} seconds.\")\n",
    "\n",
    "my_n = np.arange(101)\n",
    "ww_expected = 2 * (1 - np.cos(my_n*np.pi/N)) / dx**2\n",
    "\n",
    "plt.plot(my_n, ww, label='Computed', alpha=0.8)\n",
    "plt.plot(my_n, ww_expected, label='Expected', linewidth=2, linestyle='--', alpha=0.8)\n",
    "plt.xlabel(r'$n$')\n",
    "plt.ylabel(r'$w_{n}$')\n",
    "plt.legend()\n",
    "plt.show()\n",
    "\n",
    "diff = np.abs(ww - ww_expected) / np.max(np.abs([ww, ww_expected]), axis=0)\n",
    "print (f\"Max difference is {diff[1:].max()}.\")\n",
    "assert (diff[1:] < 1e-6).all()"
   ]
  },
  {
   "cell_type": "markdown",
   "metadata": {
    "deletable": false,
    "editable": false,
    "nbgrader": {
     "cell_type": "markdown",
     "checksum": "6b54b11725241c0fc135be932c0dc0bf",
     "grade": false,
     "grade_id": "section-task2",
     "locked": true,
     "schema_version": 3,
     "solution": false,
     "task": false
    }
   },
   "source": [
    "# Task 2 (5p)\n",
    "\n",
    "Select dx as a negative power of two ($dx=2^{-n}$ for n>0) such that the 101th eigenvalue differs from the dx$\\rightarrow$0 limiting value of\n",
    "\n",
    "$\n",
    "\\begin{align}\n",
    "w_{101,exact} = \\frac{(100\\pi/N)^{2}}{dx^2}\n",
    "\\end{align}\n",
    "$\n",
    "\n",
    "by less than 0.1%, i.e., $|w_{101}/w_{101,exact}-1|<0.001$.\n",
    "\n",
    "Motivation: selecting a sufficiently small dx is required to obtain a good approximation to the original (continuous) equation (1) for subsequent tasks.\n",
    "\n",
    "In the cell below, compute a value of dx that satisfies the above contraint. The function `task2` should return the value of dx that you have calculated."
   ]
  },
  {
   "cell_type": "code",
   "execution_count": 75,
   "metadata": {
    "deletable": false,
    "nbgrader": {
     "cell_type": "code",
     "checksum": "564c94d57db0859bc5bc3dd8c130330d",
     "grade": false,
     "grade_id": "function-task2",
     "locked": false,
     "schema_version": 3,
     "solution": true,
     "task": false
    }
   },
   "outputs": [
    {
     "data": {
      "text/plain": [
       "0.03125"
      ]
     },
     "execution_count": 75,
     "metadata": {},
     "output_type": "execute_result"
    }
   ],
   "source": [
    "\"\"\" \n",
    "Iterates through integer values of n, calculates w101_exact and w101 with corresponding dx and checks if ratio of \n",
    "(w101/w101_exact) - 1 < 0.001, if it is, returns the value of dx.\n",
    "\n",
    "\"\"\"\n",
    "\n",
    "def task2():\n",
    "    lim = 0.001\n",
    "    V = 0\n",
    "    for n in range(1, 10):\n",
    "        dx = 2**(-n)  \n",
    "        N = int(L/dx)\n",
    "        evals = 100\n",
    "        min_eval = 0\n",
    "     \n",
    "        ww, vv = hamiltonian(dx, N, evals, V, min_eval)\n",
    "        \n",
    "        #101st lowest eigenvalueset to w101\n",
    "        w101 = ww[100]\n",
    "       \n",
    "        w101_exact = ((100*np.pi/N)**2) / dx**2\n",
    "        \n",
    "        #loop breaks and dx is returned if the condition is met\n",
    "        if abs((w101/w101_exact) - 1) < lim:\n",
    "            return dx\n",
    "            break\n",
    "         \n",
    "        else:\n",
    "            pass\n",
    "    print(dx)\n",
    "task2()\n",
    " \n"
   ]
  },
  {
   "cell_type": "markdown",
   "metadata": {
    "deletable": false,
    "editable": false,
    "nbgrader": {
     "cell_type": "markdown",
     "checksum": "39641e91784f331101fec867e65e432a",
     "grade": false,
     "grade_id": "section-testing-task2",
     "locked": true,
     "schema_version": 3,
     "solution": false,
     "task": false
    }
   },
   "source": [
    "## Testing task 2\n",
    "\n",
    "The cell below will run the `task2` function. We will verify that value of dx return satisfies the criterion outlined above."
   ]
  },
  {
   "cell_type": "code",
   "execution_count": 76,
   "metadata": {
    "deletable": false,
    "editable": false,
    "nbgrader": {
     "cell_type": "code",
     "checksum": "c5bc499d8c9b1e1acf2400536aa6dd26",
     "grade": true,
     "grade_id": "test-task2",
     "locked": true,
     "points": 0,
     "schema_version": 3,
     "solution": false,
     "task": false
    }
   },
   "outputs": [
    {
     "name": "stdout",
     "output_type": "stream",
     "text": [
      "Time to solution: 0.4109771251678467 seconds.\n"
     ]
    }
   ],
   "source": [
    "t1 = time.time()\n",
    "my_dx = task2()\n",
    "t2 = time.time()\n",
    "print (f\"Time to solution: {t2-t1} seconds.\")\n"
   ]
  },
  {
   "cell_type": "markdown",
   "metadata": {
    "deletable": false,
    "editable": false,
    "nbgrader": {
     "cell_type": "markdown",
     "checksum": "f2e4dcb87cfbbe6722c352b2f9bc17a7",
     "grade": false,
     "grade_id": "section-task3",
     "locked": true,
     "schema_version": 3,
     "solution": false,
     "task": false
    }
   },
   "source": [
    "# Task 3 (20p)\n",
    "\n",
    "Solve equation (1) with the initial condition (2) (the Schroedinger equation and the Gaussian function from the checkpoint's description) for V(x)=0, on a domain x=0...100, for t=0...4 and dx from task 2. Plot $|\\psi(x,t)|^2$ and determine its mean given by\n",
    "\n",
    "$\n",
    "\\large\n",
    "\\begin{align}\n",
    "<x>\\ = \\int_{0}^{100} |ψ(x)|^2 x dx.\n",
    "\\end{align}\n",
    "$\n",
    "\n",
    "The mean should be equal to 79$\\pm$-1.\n",
    "\n",
    "Hint: use the procedure for creating the Hamiltonian matrix from tasks 1, 2. This will reduce the amount of coding required."
   ]
  },
  {
   "cell_type": "code",
   "execution_count": 77,
   "metadata": {
    "deletable": false,
    "editable": false,
    "nbgrader": {
     "cell_type": "code",
     "checksum": "9a9e978c8645282513b821173f09c460",
     "grade": false,
     "grade_id": "constants-task3",
     "locked": true,
     "schema_version": 3,
     "solution": false,
     "task": false
    }
   },
   "outputs": [],
   "source": [
    "### Constants for task 3 and 4\n",
    "x0     = 15\n",
    "v      = 16\n",
    "sigma2 = 5\n",
    "tmax   = 4"
   ]
  },
  {
   "cell_type": "markdown",
   "metadata": {
    "deletable": false,
    "editable": false,
    "nbgrader": {
     "cell_type": "markdown",
     "checksum": "1e27c438de19cefd35bfacb16b3d74e8",
     "grade": false,
     "grade_id": "section-plot-task3",
     "locked": true,
     "schema_version": 3,
     "solution": false,
     "task": false
    }
   },
   "source": [
    "## Task 3 plot and result\n",
    "\n",
    "In the cell(s) below, do the following:\n",
    "1. Solve equation (1) for t=0...4 and plot $|\\psi(x,t=0)|^2$ and $|\\psi(x,t=tmax)|^2$ as a function of x.\n",
    "2. Compute the mean of the final position and print the value. The correct result should be between 78 and 80.\n",
    "\n",
    "Don't forget to nomalize your Gaussian initial condition so that the total probability $\\int_0^L |\\psi(x,t=0)|^2 dx=1$. \n",
    "\n",
    "You do not have to wrap up the calculation in a function \"task3()\", but doing so may help to reduce the amount of coding for tasks 4-6."
   ]
  },
  {
   "cell_type": "code",
   "execution_count": 78,
   "metadata": {
    "deletable": false,
    "nbgrader": {
     "cell_type": "code",
     "checksum": "46aef034c85233969d2a90e3f1e102b1",
     "grade": true,
     "grade_id": "function-task3",
     "locked": false,
     "points": 0,
     "schema_version": 3,
     "solution": true,
     "task": false
    },
    "scrolled": true
   },
   "outputs": [
    {
     "data": {
      "image/png": "[encoded data removed]",
      "text/plain": [
       "<Figure size 720x432 with 1 Axes>"
      ]
     },
     "metadata": {
      "needs_background": "light"
     },
     "output_type": "display_data"
    },
    {
     "name": "stdout",
     "output_type": "stream",
     "text": [
      "78.33232109516695\n"
     ]
    }
   ],
   "source": [
    "\"\"\"\n",
    "\n",
    "Function which takes the initial condition psi_0 and normalises it.\n",
    "\n",
    "\"\"\"\n",
    "\n",
    "def normalise(psi_0, x):\n",
    "    #calculate probability density \n",
    "    psi_02 =(np.conjugate(psi_0) * psi_0).real\n",
    "    #integrate probability density function with respect to x\n",
    "    integral = simps(psi_02, x)\n",
    "    #multiply psi_0 by normalisation factor. Normalisation factor is the equation for normalising a gaussian.\n",
    "    psi_0 = (1/np.sqrt(integral))*psi_0\n",
    "\n",
    "    return psi_0\n",
    "\n",
    "\n",
    "\"\"\" \n",
    "\n",
    "Function calculates probability densities psi_n2 and psi_02 and then returns the normalised probability densities\n",
    "\n",
    "\"\"\"\n",
    "def psi(V=0):\n",
    "    \n",
    "    dx = task2()     \n",
    "    N  = int(L/dx)\n",
    "    x = np.arange(0,L , dx)\n",
    "    t = np.linspace(0,tmax, N)\n",
    "    dt = tmax / N  \n",
    "    \n",
    "    #initial conditions, this is the initial value for psi given in the question, it is an array with elements corresponding to\n",
    "    #each x value\n",
    "    psi_0 =   np.exp(-(((x-x0)**2)/(2*sigma2)) + (1j*v*x)/2)\n",
    "    psi_0 = normalise(psi_0, x)\n",
    "    \n",
    "    #increase range of eigenvalues(and  eigenvectors) to return. higher number of eigenvalues gives higher accuracy probability\n",
    "    #densitites, but too many takes a long tim to execute so 400 is a compromise retaining accuracy and fast to execute\n",
    "    evals = 400\n",
    "    min_eval = 0\n",
    "    ww, vv  = hamiltonian(dx, N, evals, V, min_eval)\n",
    "    \n",
    "    #scalar product of the transpose of the eigenvectors  and the psi_0 array\n",
    "    a = vv.T.dot(psi_0)\n",
    "\n",
    "    #solving for psi, using summation instead of iterating through the a array.\n",
    "    psi_n = (a * np.exp(-1j* ww * tmax) * vv).sum(axis=1) \n",
    "    \n",
    "    #calculating probability densities by multiplying both arrays(psi_0 and psi_n) by their corresponding conjugate\n",
    "    psi_02 =(np.conjugate(psi_0) * psi_0).real\n",
    "    psi_n2 = (np.conjugate(psi_n) * psi_n).real\n",
    "        \n",
    "    return x,psi_n2, psi_02, tmax\n",
    "\n",
    "\n",
    "\n",
    "\"\"\"\n",
    "\n",
    "Function to plot probability densities(at t0 and tmax) against x)\n",
    "\n",
    "\"\"\"\n",
    "\n",
    "def plot():\n",
    "    \n",
    "    x, psi_n2, psi_02, tmax = psi()\n",
    "    \n",
    "    plt.plot(x, psi_02, label ='t=0')\n",
    "    plt.plot(x, psi_n2, label =f't=tmax')\n",
    "    plt.xlim(0)\n",
    "    plt.ylim(0)\n",
    "    plt.xlabel(\"x\")\n",
    "    plt.ylabel(\"psi^2\")\n",
    "    plt.legend()\n",
    "    plt.show()\n",
    "    \n",
    "    \n",
    "\n",
    "\"\"\"\n",
    "Function to calculate and returnm the mean of psi at tmax by integrating the probability density multiplied by x between 100 and 0, this \n",
    "is given in the question\n",
    "\n",
    "\"\"\"\n",
    "\n",
    "\n",
    "def mean():\n",
    "  \n",
    "    x, psi_n2, psi_02, tmax = psi()\n",
    "    y =(psi_n2*x) \n",
    "    mean = simps(y, x) \n",
    "    print(mean)\n",
    "   \n",
    "   \n",
    "\n",
    "def task3():\n",
    "    plot()\n",
    "    mean()\n",
    "    \n",
    "task3()\n",
    "    \n",
    "    \n",
    "    \n",
    "    \n"
   ]
  },
  {
   "cell_type": "markdown",
   "metadata": {
    "deletable": false,
    "editable": false,
    "nbgrader": {
     "cell_type": "markdown",
     "checksum": "78f9c05ab558663eee6abd74c130f534",
     "grade": false,
     "grade_id": "section-task4",
     "locked": true,
     "schema_version": 3,
     "solution": false,
     "task": false
    }
   },
   "source": [
    "# Task 4 (10p)\n",
    "\n",
    "Now repeat task 3 for a potential made up of regularly spaced wells such that\n",
    "\n",
    "V=70 for |x-i| < 0.25 where i=0,1,...,100,\n",
    "\n",
    "and V=0 elsewhere.\n",
    "\n",
    "Plot the potential. It should be $V=70$ for $x=0...0.25$, $V=0$ for $x=0.25...0.75$, $V=70$ for $x=0.75...1.25$, and so on.\n",
    "\n",
    "Determine the mean of $|\\psi(x,t)|^2$ as before, with accuracy $\\pm$1.\n",
    "\n",
    "Make sure that dx and dt are sufficiently small to achieve this accuracy!\n",
    "\n",
    "In the cell below, create the potential and plot it over the range [0, 3]."
   ]
  },
  {
   "cell_type": "code",
   "execution_count": 80,
   "metadata": {
    "deletable": false,
    "nbgrader": {
     "cell_type": "code",
     "checksum": "a2c019e4771e7c2e39134e8f9f73c1fb",
     "grade": false,
     "grade_id": "function-task4",
     "locked": false,
     "schema_version": 3,
     "solution": true,
     "task": false
    }
   },
   "outputs": [
    {
     "data": {
      "image/png": "[encoded data removed]",
      "text/plain": [
       "<Figure size 720x432 with 1 Axes>"
      ]
     },
     "metadata": {
      "needs_background": "light"
     },
     "output_type": "display_data"
    }
   ],
   "source": [
    "\"\"\" \n",
    "Function to create the new potential\n",
    "\n",
    "\"\"\"\n",
    "\n",
    "def potential(x):\n",
    "    \n",
    "    i = np.linspace(0,100,101)\n",
    "    \n",
    "    #create empty list to store values of the potential\n",
    "    V = []\n",
    "    \n",
    "    #loop through range of the size of the x array and appends 0 or 70 to the potential list in each iteration\n",
    "    for n in range(len(x)):\n",
    "        #create an array full of one x value(changes with each iteration) with the length of the i array\n",
    "        x_list = np.full(len(i),x[n])\n",
    "        #subtract i elements from x_list elements, if any of the elements of the resulting array are < 0.25, append 70 to\n",
    "        #potential list, if not append 0\n",
    "        vals = abs(x_list - i) \n",
    "        if any(vals < 0.25):\n",
    "            V.append(70)\n",
    "        else:\n",
    "            V.append(0)\n",
    " \n",
    "    return V \n",
    "\n",
    "def plotV():\n",
    "    dx = task2()\n",
    "    x = np.arange(0, L, dx)\n",
    "    V = potential(x)  \n",
    "    V = np.array(V)\n",
    "    plt.xlabel(\"x\")\n",
    "    plt.ylabel(\"V\")\n",
    "    \n",
    "    #plot potential against x. Slicing has been used to create a plot in the 0 to 3 x interval.\n",
    "    plt.plot(x[x<3],V[x<3])\n",
    "\n",
    "plotV()\n",
    "\n",
    "\n"
   ]
  },
  {
   "cell_type": "markdown",
   "metadata": {
    "deletable": false,
    "editable": false,
    "nbgrader": {
     "cell_type": "markdown",
     "checksum": "a677f62e1ff93e1705edb79f9ffda1c5",
     "grade": false,
     "grade_id": "section-task4-cont",
     "locked": true,
     "schema_version": 3,
     "solution": false,
     "task": false
    }
   },
   "source": [
    "# Task 4 continued\n",
    "\n",
    "In the cell below, repeat task 3 with the new potential."
   ]
  },
  {
   "cell_type": "code",
   "execution_count": 81,
   "metadata": {
    "deletable": false,
    "nbgrader": {
     "cell_type": "code",
     "checksum": "2d5de27a32e1e00fc6b5b0ac93f2fc64",
     "grade": false,
     "grade_id": "answer-task4",
     "locked": false,
     "schema_version": 3,
     "solution": true,
     "task": false
    },
    "scrolled": false
   },
   "outputs": [
    {
     "data": {
      "image/png": "[encoded data removed]",
      "text/plain": [
       "<Figure size 720x432 with 1 Axes>"
      ]
     },
     "metadata": {
      "needs_background": "light"
     },
     "output_type": "display_data"
    },
    {
     "name": "stdout",
     "output_type": "stream",
     "text": [
      "56.39865348431639\n"
     ]
    }
   ],
   "source": [
    "\"\"\"\n",
    "Function which calls hamiltonian function from task one to create a tridiangonal matrix and returns the eigenvalues \n",
    "and eigenvectors.\n",
    "\n",
    "\"\"\"\n",
    "def psi2(V, evals, min_eval):\n",
    "    \n",
    "    dx = task2()     \n",
    "    N  = int(L/dx)\n",
    "    x = np.arange(0,L , dx)\n",
    "    t = np.linspace(0,tmax, N)\n",
    " \n",
    "  \n",
    "    \n",
    " \n",
    "    ww, vv  = hamiltonian(dx, N, evals, V, min_eval)\n",
    "    \n",
    "    return ww, vv\n",
    "\n",
    "\"\"\"\n",
    "Similar to psi function in task. Takes initial conditions, calls normalise function to normalise initial wavefunction \n",
    "and calculates wave functions and probability density functions before returning the probability densities.\n",
    "\n",
    "\"\"\"\n",
    "\n",
    "def prob_density(V):\n",
    "    evals = 600\n",
    "    min_eval = 0\n",
    "    dx = task2()    \n",
    "    x = np.arange(0,L , dx)\n",
    "    psi_0 =   np.exp(-(((x-x0)**2)/(2*sigma2)) + (1j*v*x)/2)\n",
    "    psi_0 = normalise(psi_0, x)\n",
    "    ww,vv = psi2(V, evals, min_eval)\n",
    "    a = vv.T.dot(psi_0)\n",
    "    \n",
    "    \n",
    "    \n",
    "  \n",
    "    psi_n = (a * np.exp(-1j* ww * tmax) * vv).sum(axis=1) \n",
    "    psi_02 =(np.conjugate(psi_0) * psi_0).real\n",
    "    psi_n2 = (np.conjugate(psi_n) * psi_n).real\n",
    "    \n",
    "    \n",
    "    return x, psi_n2,psi_02\n",
    "\n",
    "\n",
    "def plot2(V):\n",
    "    \n",
    "    x, psi_n2, psi_02 = prob_density(V)\n",
    "    \n",
    "    plt.plot(x, psi_02, label ='t=0')\n",
    "    plt.plot(x, psi_n2, label =f't=tmax')\n",
    "    plt.xlim(0)\n",
    "    plt.ylim(0)\n",
    "    plt.xlabel(\"x\")\n",
    "    plt.ylabel(\"psi^2\")\n",
    "    plt.legend()\n",
    "    plt.show()\n",
    "    \n",
    "def mean2(V):\n",
    "    x, psi_n2, psi_02 = prob_density(V)\n",
    "    y =(psi_n2*x) \n",
    "    mean = simps(y, x) \n",
    "    print(mean)\n",
    "\n",
    "\n",
    "def task4():\n",
    "    dx = task2()\n",
    "    x = np.arange(0, L, dx)\n",
    "    V = potential(x)\n",
    "    plot2(V)\n",
    "    mean2(V)  \n",
    "task4()\n",
    "    \n",
    "    \n",
    "    \n",
    "    \n",
    "\n"
   ]
  },
  {
   "cell_type": "markdown",
   "metadata": {
    "deletable": false,
    "editable": false,
    "nbgrader": {
     "cell_type": "markdown",
     "checksum": "6132662c54c849e9968cb221ea16659f",
     "grade": false,
     "grade_id": "section-task5",
     "locked": true,
     "schema_version": 3,
     "solution": false,
     "task": false
    }
   },
   "source": [
    "# Task 5 (15p)\n",
    "\n",
    "Calculate the probability $P_{1/2}$ of the particle moving through the point x=L/2 by integrating the probability current \n",
    "\n",
    "$\n",
    "\\large\n",
    "\\begin{align}\n",
    "j = (\\psi^*  \\frac{\\partial \\psi}{\\partial x} -\n",
    "\\psi \\frac{\\partial \\psi^*}{\\partial x})(x=L/2)\n",
    "\\end{align}\n",
    "$\n",
    "\n",
    "over time, for t=0...4. The probability can deviate from the true value by no more than $\\pm$0.01 (hint: the correct value is between 0.5 and 1).\n",
    "\n",
    "In the cell below, calculate the probability and print your answer."
   ]
  },
  {
   "cell_type": "code",
   "execution_count": 82,
   "metadata": {
    "deletable": false,
    "nbgrader": {
     "cell_type": "code",
     "checksum": "69036dbb6598c88ed2c686173d93177a",
     "grade": false,
     "grade_id": "function-task5",
     "locked": false,
     "schema_version": 3,
     "solution": true,
     "task": false
    }
   },
   "outputs": [
    {
     "name": "stdout",
     "output_type": "stream",
     "text": [
      "0.8180164288603097\n",
      "Time to solution: 1.4673817157745361 seconds.\n"
     ]
    }
   ],
   "source": [
    "\"\"\" \n",
    "\n",
    "For this task  I initially ran the code with a large number of eigenvalues in order to determine an accurate value of the\n",
    "probability. Then I reduced the min and max eigenvalue indice that the eigsh function would calculate ensuring that the\n",
    "outputted probability similar to the accurate value I had determined. The lower number of eigenvalues calculated speeds up \n",
    "execution time for this task. Another way to speed up the execution time with minimal impact to the accuracy was by increasing\n",
    "the value of dt. I initially had it very small at (dx^2)/2 and then increased it to increase speed while retaining an accurate \n",
    "answer.\n",
    "\"\"\"\n",
    "\n",
    "\n",
    "def task5():\n",
    "    t1 = time.time()\n",
    "    dx= 0.03125\n",
    "    x = np.arange(0,L, dx)\n",
    "    dt = dx*3.2\n",
    "    t = np.arange(0,tmax,dt)\n",
    "    V = potential(x)\n",
    "\n",
    " \n",
    "    evals = 485\n",
    "    min_eval = 220\n",
    "    #intial conditions and eigenvalues/eigenvectors, call normalisation function\n",
    "    ww, vv = psi2(V, evals, min_eval)    \n",
    "    psi_0 =  (np.exp(-(((x-x0)**2)/(2*sigma2)) + (1j*v*x)/2))\n",
    "    psi_0 = normalise(psi_0, x)\n",
    "   \n",
    "    \n",
    "    a = vv.T.dot(psi_0)\n",
    "    \n",
    "    # Create three empty lists to store wavefunction at L/2, the wavefunction at (L/2) + 1 and the wavefunction at (L/2) -1\n",
    "    # Psi_ta and psi_tb can be used as a way to calculate the differential of psi with respect to x. By taking the value of\n",
    "    # psi_t above and below the differential is found symmetrically(dividing by 2*dx), which is more accuracte than calculating\n",
    "    # difference over one time step.\n",
    "    psi_t = []\n",
    "    psi_ta = []\n",
    "    psi_tb = [] \n",
    "   \n",
    "    #loop through length of time array to get psi_n arrays at each time\n",
    "    for q in range(len(t)):\n",
    "        psi_n = (a * np.exp(-1j* ww* t[q]) * vv).sum(axis=1)\n",
    "        psi_t.append(psi_n[int(len(x)/2)])\n",
    "        psi_ta.append(psi_n[int((len(x))/2)+1])\n",
    "        psi_tb.append(psi_n[int((len(x))/2)-1])\n",
    "    \n",
    "    psi_t = np.array(psi_t)\n",
    "\n",
    "    \n",
    "    psi_ta = np.array(psi_ta)\n",
    "    psi_tb = np.array(psi_tb)\n",
    "    \n",
    "    psic_t = np.conjugate(psi_t)\n",
    "    psic_ta = np.conjugate(psi_ta)\n",
    "    psic_tb = np.conjugate(psi_tb)\n",
    "             \n",
    "    \n",
    "    #calculate diffential of psi with respect to x, using the difference in psi_ta and psi_tb and dividing by 2*dx\n",
    "    dpsi = (psi_ta-psi_tb)/(2*dx)\n",
    "    dpsic = np.conjugate(dpsi)\n",
    "    \n",
    "    #calculate probability current using the equation given in the question\n",
    "    prob_current = (-1j * (psic_t *dpsi - psi_t*dpsic)).real\n",
    " \n",
    "    \n",
    "    integral = simps(prob_current, t) \n",
    "    \n",
    "    print(integral)\n",
    "    t2 = time.time()\n",
    "    print (f\"Time to solution: {t2-t1} seconds.\")\n",
    "   \n",
    "\n",
    "\n",
    "\n",
    "task5()    "
   ]
  },
  {
   "cell_type": "markdown",
   "metadata": {
    "deletable": false,
    "editable": false,
    "nbgrader": {
     "cell_type": "markdown",
     "checksum": "a5704cc71928fbf5402f80cfa8e06bb6",
     "grade": false,
     "grade_id": "section-task6",
     "locked": true,
     "schema_version": 3,
     "solution": false,
     "task": false
    }
   },
   "source": [
    "# Task 6 (15p)\n",
    "\n",
    "Plot the probability $P_{1/2}$ as a function of particle energy E=0...100, for at least 100 equally-spaced values from this range. All $P_{1/2}$ values should be within $\\pm$0.01 of the true values. Use the formula \n",
    "\n",
    "$\n",
    "\\large\n",
    "\\begin{align}\n",
    "E = \\frac{1}{4} v^2\n",
    "\\end{align}\n",
    "$\n",
    "\n",
    "to convert between energy and velocity (valid for Eqs. (1,2)).\n",
    "\n",
    "Bonus question: can you explain why the plot looks like this?\n",
    "\n",
    "Plot the probability in the cell below."
   ]
  },
  {
   "cell_type": "code",
   "execution_count": 83,
   "metadata": {
    "deletable": false,
    "nbgrader": {
     "cell_type": "code",
     "checksum": "34248862ebaaf5a028b3f562b2fe6efc",
     "grade": false,
     "grade_id": "function-task6",
     "locked": false,
     "schema_version": 3,
     "solution": true,
     "task": false
    }
   },
   "outputs": [
    {
     "name": "stdout",
     "output_type": "stream",
     "text": [
      "Time to solution: 45.22301387786865 seconds.\n"
     ]
    },
    {
     "data": {
      "image/png": "[encoded data removed]",
      "text/plain": [
       "<Figure size 720x432 with 1 Axes>"
      ]
     },
     "metadata": {
      "needs_background": "light"
     },
     "output_type": "display_data"
    }
   ],
   "source": [
    "\"\"\"\n",
    "My approach to this task was to use the code from task 5 in order to calculate the probability current and probabilities. \n",
    "I iterate through the number of energy values to calculate a new inital condition psi_0 (which depends on velocity and therefore\n",
    "energy) for every energy value. I append each of these values to a list which I convert to an array and then determine the \n",
    "average. This task takes about 45 seconds to run.\n",
    "\n",
    "\"\"\"\n",
    "\n",
    "def task6():\n",
    "    t1 = time.time()\n",
    "    dx = 0.03125 \n",
    "    x = np.arange(0,L, dx)\n",
    "    dt = dx*3.2\n",
    "    t = np.arange(0,tmax,dt)\n",
    "    V = potential(x)\n",
    "\n",
    " \n",
    "    evals = 485\n",
    "    min_eval = 220\n",
    "    \n",
    "    ww, vv = psi2(V, evals,min_eval)  \n",
    "    \n",
    "    #creates an array of energy values\n",
    "    E = np.linspace(0,100,101)  \n",
    "    #create an array of velocities where the velocities are calculated from the energy values\n",
    "    v = np.sqrt(4*E)\n",
    "    \n",
    "    #A list to store the probabilities at x/2\n",
    "    p_half = []\n",
    "    \n",
    "    #iterate through length of energy value array \n",
    "    for k in range(len(E)):\n",
    "        psi_0 =  (np.exp(-(((x-x0)**2)/(2*sigma2)) + (1j*v[k]*x)/2))\n",
    "        psi_0 = normalise(psi_0, x)\n",
    "       \n",
    "\n",
    "        a = vv.T.dot(psi_0)\n",
    "\n",
    "        psi_t = []\n",
    "        psi_ta = []\n",
    "        psi_tb = [] \n",
    "\n",
    "        #embedded for loop to append wavefunctions at x/2 into list\n",
    "        for q in range(len(t)):\n",
    "            psi_n = (a * np.exp(-1j* ww* t[q]) * vv).sum(axis=1)\n",
    "            psi_t.append(psi_n[int(len(x)/2)])\n",
    "            psi_ta.append(psi_n[int((len(x))/2)+1])\n",
    "            psi_tb.append(psi_n[int((len(x))/2)-1])\n",
    "\n",
    "        psi_t = np.array(psi_t)\n",
    "\n",
    "\n",
    "        psi_ta = np.array(psi_ta)\n",
    "        psi_tb = np.array(psi_tb)\n",
    "\n",
    "        psic_t = np.conjugate(psi_t)\n",
    "        psic_ta = np.conjugate(psi_ta)\n",
    "        psic_tb = np.conjugate(psi_tb)\n",
    "        dpsi = (psi_ta-psi_tb)/(2*dx)\n",
    "        dpsic = np.conjugate(dpsi)\n",
    "        \n",
    "        #using wavefunctions and their conjugates to calculate probability current with a new energy value in each iteration.\n",
    "        prob_current = (-1j * (psic_t *dpsi - psi_t*dpsic)).real\n",
    "        prob_current = prob_current.ravel()\n",
    "\n",
    "        integral = simps(prob_current, t) \n",
    "        \n",
    "        \n",
    "        p_half.append(integral)\n",
    "        \n",
    "    plt.xlabel(\"E\")\n",
    "    plt.ylabel(\"probability 1/2\")     \n",
    "    #plot probabilities against the energy values\n",
    "    plt.plot(E,p_half)\n",
    "    t2 = time.time()\n",
    "    print (f\"Time to solution: {t2-t1} seconds.\")\n",
    "   \n",
    "        \n",
    "task6()"
   ]
  },
  {
   "cell_type": "markdown",
   "metadata": {
    "deletable": false,
    "editable": false,
    "nbgrader": {
     "cell_type": "markdown",
     "checksum": "395d9446d8ecec601bd2616f5aa01114",
     "grade": false,
     "grade_id": "section-task7",
     "locked": true,
     "schema_version": 3,
     "solution": false,
     "task": false
    }
   },
   "source": [
    "# Task 7 (10p)\n",
    "\n",
    "Assume again the initial condition of equation (2) with v=16, and consider a disordered potential in which\n",
    "\n",
    "V=70 for |x-i| < b$_i$ where i=0,1,...,100,\n",
    "\n",
    "and b$_i$ is a random variable uniformly distributed on [0.125, 0.375].\n",
    "\n",
    "Find the probability $P_{1/2}$ by averaging over 100 realizations of the random potential (must be accurate to $\\pm$0.02). Plot the histogram of $P_{1/2}$. Comment on the value of $P_{1/2}$ compared with task 5."
   ]
  },
  {
   "cell_type": "code",
   "execution_count": 103,
   "metadata": {
    "deletable": false,
    "nbgrader": {
     "cell_type": "code",
     "checksum": "546417409ea0cf71ede0771b17aec4ca",
     "grade": false,
     "grade_id": "function-task7",
     "locked": false,
     "schema_version": 3,
     "solution": true,
     "task": false
    }
   },
   "outputs": [],
   "source": [
    "\"\"\"\n",
    "Function to create a potential based on the new conditions. An array that is the size of the x array is created and filled \n",
    "random floats which are used to create a potential)\n",
    "\"\"\"\n",
    "\n",
    "def potential2(x):\n",
    "    i = np.linspace(0,100,101)\n",
    "    #create array of random floats between 0.125 and 0.375 and of a size equal to the length of 101\n",
    "    b = np.random.uniform(low=0.125, high=0.375, size=(101,))\n",
    "    V = []\n",
    "    \n",
    "    # This is the same loop that is used in task 4, however now instead of a condition condition vals < 0.025, the 0.025 value\n",
    "    # is a random float which changes after every iteration\n",
    "    for n in range(len(x)):\n",
    "        x_list = np.full(len(i),x[n])\n",
    "        vals = abs(x_list - i) \n",
    "        if any(vals < b):\n",
    "            V.append(70)\n",
    "        else:\n",
    "            V.append(0)\n",
    "\n",
    "     \n",
    "    return V \n",
    "\n",
    "\n",
    "\n",
    "def task7():\n",
    "\n",
    "    dx = 0.03125\n",
    "    x = np.arange(0, L, dx)\n",
    "  \n",
    "\n",
    "    dt = dx*3.2\n",
    "    t = np.arange(0,tmax,dt)\n",
    "    \n",
    "   \n",
    " \n",
    "    evals = 485\n",
    "    min_eval = 220\n",
    "    probabilities = []\n",
    "    \n",
    "    # loops 100 times, in each iteration a new (random) potential is created from potential2 function and used to calculate new\n",
    "    # initial conditions and wavefunctions which are used to calculate a new probability in each iteration\n",
    "    for r in range(100):\n",
    "        V = potential2(x)\n",
    "        V = np.array(V)\n",
    "        psi_0 =  (np.exp(-(((x-x0)**2)/(2*sigma2)) + (1j*v*x)/2))\n",
    "        psi_0 = normalise(psi_0, x)\n",
    "    \n",
    "        ww, vv = psi2(V, evals, min_eval)    \n",
    "\n",
    "\n",
    "        a = vv.T.dot(psi_0)\n",
    "\n",
    "        psi_t = []\n",
    "        psi_ta = []\n",
    "        psi_tb = [] \n",
    "\n",
    "\n",
    "        for q in range(len(t)):\n",
    "            psi_n = (a * np.exp(-1j* ww* t[q]) * vv).sum(axis=1)\n",
    "            psi_t.append(psi_n[int(len(x)/2)])\n",
    "            psi_ta.append(psi_n[int((len(x))/2)+1])\n",
    "            psi_tb.append(psi_n[int((len(x))/2)-1])\n",
    "\n",
    "        psi_t = np.array(psi_t)\n",
    "\n",
    "\n",
    "        psi_ta = np.array(psi_ta)\n",
    "        psi_tb = np.array(psi_tb)\n",
    "\n",
    "        psic_t = np.conjugate(psi_t)\n",
    "        psic_ta = np.conjugate(psi_ta)\n",
    "        psic_tb = np.conjugate(psi_tb)\n",
    "\n",
    "\n",
    "\n",
    "        dpsi = (psi_ta-psi_tb)/(2*dx)\n",
    "        dpsic = np.conjugate(dpsi)\n",
    "\n",
    "        prob_current = (-1j * (psic_t *dpsi - psi_t*dpsic)).real\n",
    "\n",
    "\n",
    "        integral = simps(prob_current, t) \n",
    "        probabilities.append(integral)\n",
    "    \n",
    "    probabilities = np.array(probabilities)\n",
    "    #calculates average probabilty from the 100 probabilties calculated using different potentials\n",
    "    print(np.average(probabilities))\n",
    "    \n",
    "    return probabilities\n",
    "    \n"
   ]
  },
  {
   "cell_type": "code",
   "execution_count": 104,
   "metadata": {
    "deletable": false,
    "nbgrader": {
     "cell_type": "code",
     "checksum": "6bd69d5861aa9544b04e3873d9ae0379",
     "grade": false,
     "grade_id": "answer-task7",
     "locked": false,
     "schema_version": 3,
     "solution": true,
     "task": false
    }
   },
   "outputs": [
    {
     "name": "stdout",
     "output_type": "stream",
     "text": [
      "0.04891741487171969\n"
     ]
    },
    {
     "data": {
      "image/png": "[encoded data removed]",
      "text/plain": [
       "<Figure size 720x432 with 1 Axes>"
      ]
     },
     "metadata": {
      "needs_background": "light"
     },
     "output_type": "display_data"
    }
   ],
   "source": [
    "def histogram():\n",
    "    probabilities = task7()\n",
    "    \n",
    "    #plot histogram of the probabilities with 50 bins.\n",
    "    hist, bins = np.histogram(probabilities, bins=50, density=True)\n",
    "    plt.bar(bins[:-1], hist, width=(bins[1]-bins[0]))\n",
    "    plt.xlabel(\"probabilities\")\n",
    "    plt.ylabel(\"frequency\")\n",
    "    plt.show()\n",
    "histogram()\n",
    "    \n"
   ]
  },
  {
   "cell_type": "code",
   "execution_count": null,
   "metadata": {},
   "outputs": [],
   "source": []
  },
  {
   "cell_type": "code",
   "execution_count": null,
   "metadata": {},
   "outputs": [],
   "source": []
  }
 ],
 "metadata": {
  "kernelspec": {
   "display_name": "Python 3 (ipykernel)",
   "language": "python",
   "name": "python3"
  },
  "language_info": {
   "codemirror_mode": {
    "name": "ipython",
    "version": 3
   },
   "file_extension": ".py",
   "mimetype": "text/x-python",
   "name": "python",
   "nbconvert_exporter": "python",
   "pygments_lexer": "ipython3",
   "version": "3.9.13"
  }
 },
 "nbformat": 4,
 "nbformat_minor": 4
}
